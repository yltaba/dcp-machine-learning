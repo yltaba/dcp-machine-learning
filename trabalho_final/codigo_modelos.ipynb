{
 "cells": [
  {
   "attachments": {},
   "cell_type": "markdown",
   "metadata": {},
   "source": [
    "# Códigos utilizados no trabalho final"
   ]
  },
  {
   "cell_type": "code",
   "execution_count": 1,
   "metadata": {},
   "outputs": [],
   "source": [
    "import pandas as pd\n",
    "import matplotlib.pyplot as plt\n",
    "import seaborn as sns\n",
    "import numpy as np\n",
    "from scipy.sparse import hstack\n",
    "from sklearn.cluster import KMeans\n",
    "from sklearn.linear_model import LinearRegression\n",
    "from sklearn.model_selection import train_test_split\n",
    "from sklearn.preprocessing import OneHotEncoder, StandardScaler, MaxAbsScaler\n",
    "from sklearn.impute import SimpleImputer\n",
    "from sklearn.metrics import mean_absolute_error, mean_squared_error\n",
    "from sklearn.ensemble import RandomForestRegressor\n",
    "from xgboost import XGBRegressor\n",
    "\n",
    "# base com resultados de fragmentação e gastos de campanha entre 2004 e 2016.\n",
    "df = pd.read_csv('nep_votos_gastos_magnitude_v2.csv', sep=';', encoding='latin1')\n",
    "df = df[(df.ano_eleicao != 2008) & (df.codigo_municipio != 83917)]\n",
    "df = df.replace([-np.inf, np.inf], np.nan).dropna()\n",
    "\n",
    "# separando resultados de 2016 para aplicar modelo validado\n",
    "df_2016 = df[df.ano_eleicao == 2016]\n",
    "df = df[df.ano_eleicao != 2016]\n",
    "df = df[df.magnitude == 9]"
   ]
  },
  {
   "attachments": {},
   "cell_type": "markdown",
   "metadata": {},
   "source": [
    "## Boxplot das variáveis de interesse"
   ]
  },
  {
   "cell_type": "code",
   "execution_count": 12,
   "metadata": {},
   "outputs": [
    {
     "data": {
      "text/plain": [
       "Index(['ano_eleicao', 'uf', 'codigo_municipio', 'nome_municipio',\n",
       "       'total_votos_mun', 'total_despesa', 'magnitude', 'capital',\n",
       "       'codigo_ibge', 'pop', 'total_despesa_mil', 'total_despesa_milhao',\n",
       "       'nep_gastos', 'nep_votos'],\n",
       "      dtype='object')"
      ]
     },
     "execution_count": 12,
     "metadata": {},
     "output_type": "execute_result"
    }
   ],
   "source": [
    "df.columns"
   ]
  },
  {
   "cell_type": "code",
   "execution_count": 13,
   "metadata": {},
   "outputs": [
    {
     "data": {
      "image/png": "[encoded data removed]",
      "text/plain": [
       "<Figure size 432x288 with 1 Axes>"
      ]
     },
     "metadata": {
      "needs_background": "light"
     },
     "output_type": "display_data"
    }
   ],
   "source": [
    "df_boxplot = df.copy()\n",
    "df_boxplot['total_despesa_milhao'] = df_boxplot.total_despesa / 1000000\n",
    "df_boxplot['pop_mil'] = df_boxplot['pop'] / 1000\n",
    "df_boxplot['total_votos_mun_mil'] = df_boxplot.total_votos_mun / 1000\n",
    "df_boxplot = df_boxplot[['nep_votos', 'nep_gastos', 'total_despesa_milhao', 'total_votos_mun_mil', 'pop_mil']]\n",
    "df_boxplot = df_boxplot.rename(columns={\n",
    "    'nep_votos':'NEP-V',\n",
    "    'nep_gastos':'NEP-G',\n",
    "    'total_despesa_milhao':'Total de gastos (em milhões R$)',\n",
    "    'total_votos_mun_mil':'Votos no município (mil)',\n",
    "    'pop_mil':'População (mil)'\n",
    "})\n",
    "\n",
    "_ = sns.boxplot(data=df_boxplot, orient='h')\n",
    "plt.ylabel(\"Variáveis\")\n",
    "plt.xlabel(\"Valores\")\n",
    "plt.show()"
   ]
  },
  {
   "attachments": {},
   "cell_type": "markdown",
   "metadata": {},
   "source": [
    "## Pre processamento"
   ]
  },
  {
   "cell_type": "code",
   "execution_count": 3,
   "metadata": {},
   "outputs": [
    {
     "data": {
      "text/plain": [
       "<5561x32 sparse matrix of type '<class 'numpy.float64'>'\n",
       "\twith 33366 stored elements in Compressed Sparse Row format>"
      ]
     },
     "execution_count": 3,
     "metadata": {},
     "output_type": "execute_result"
    }
   ],
   "source": [
    "# definição do target = numero efetivo de partidos em votos\n",
    "y = df.nep_votos\n",
    "\n",
    "# one hot encoding para os estados\n",
    "uf = df[['uf']]\n",
    "uf = OneHotEncoder().fit_transform(uf)\n",
    "\n",
    "# retirando colunas\n",
    "X = df.loc[:, ~df.columns.isin([\n",
    "    'nep_votos', 'uf', 'codigo_municipio', \n",
    "    'codigo_ibge', 'sigla_uf', 'nome_municipio',\n",
    "    'ano_eleicao', 'total_despesa_mil', 'total_despesa'\n",
    "    ])]\n",
    "\n",
    "# combinando features em uma matriz esparsa\n",
    "X = hstack([X, uf])\n",
    "\n",
    "# divisão entre as bases de treino e teste\n",
    "X_train, X_val, y_train, y_val = train_test_split(X, y, test_size=0.3)\n",
    "\n",
    "# imputando a mediana dos valores para substituir observações nulas entre as features de treino\n",
    "imputer = SimpleImputer(strategy='median')\n",
    "X_train = imputer.fit_transform(X_train)\n",
    "X_val = imputer.fit_transform(X_val)\n",
    "\n",
    "# padronização das features de treino\n",
    "scaler = StandardScaler(with_mean=False)\n",
    "scaler.fit_transform(X_train)"
   ]
  },
  {
   "attachments": {},
   "cell_type": "markdown",
   "metadata": {},
   "source": [
    "## Random Forest - parameter tuning"
   ]
  },
  {
   "cell_type": "code",
   "execution_count": 4,
   "metadata": {},
   "outputs": [
    {
     "name": "stdout",
     "output_type": "stream",
     "text": [
      "RMSE:1.7994449696003405\n"
     ]
    }
   ],
   "source": [
    "model_rf = RandomForestRegressor(random_state=42)\n",
    "model_rf.fit(X_train, y_train)\n",
    "pred_rf = model_rf.predict(X_val)\n",
    "print(f\"RMSE:{mean_squared_error(y_val, pred_rf, squared=False)}\")"
   ]
  },
  {
   "cell_type": "code",
   "execution_count": 5,
   "metadata": {},
   "outputs": [],
   "source": [
    "# # verificando melhor parâmetro para n_estimator\n",
    "# estimators = np.arange(50, 300, 50)\n",
    "# rmse_rf_estimators = []\n",
    "# for i in estimators:\n",
    "#     model_rf.set_params(n_estimators=i)\n",
    "#     model_rf.fit(X_train, y_train)\n",
    "#     pred_rf = model_rf.predict(X_val)\n",
    "#     rmse_rf_estimators.append(mean_squared_error(y_val, pred_rf, squared=False))\n",
    "\n",
    "\n",
    "\n",
    "# # verificando melhor parâmetro para criterion\n",
    "# crit = ['squared_error', 'absolute_error', 'friedman_mse', 'poisson']\n",
    "# rmse_rf = []\n",
    "# for i in crit:\n",
    "#     model_rf.set_params(criterion=i)\n",
    "#     model_rf.fit(X_train, y_train)\n",
    "#     pred_rf = model_rf.predict(X_val)\n",
    "#     rmse_rf.append(mean_squared_error(y_val, pred_rf, squared=False))\n",
    "\n",
    "# plt.figure(figsize=(12,5))\n",
    "# plt.subplot(1, 2, 1)\n",
    "# _ = plt.plot(estimators, rmse_rf_estimators, '-ro')\n",
    "# plt.xlabel(\"n_estimators\")\n",
    "# plt.ylabel(\"RMSE\")\n",
    "# plt.subplot(1, 2, 2)\n",
    "# _ = plt.plot(crit, rmse_rf, '-ro')\n",
    "# plt.xlabel(\"criterion\")\n",
    "# plt.show()"
   ]
  },
  {
   "cell_type": "code",
   "execution_count": 6,
   "metadata": {},
   "outputs": [
    {
     "name": "stdout",
     "output_type": "stream",
     "text": [
      "RMSE:1.7994449696003405\n"
     ]
    }
   ],
   "source": [
    "model_rf.set_params(n_estimators=60, criterion='absolute_error')\n",
    "pred_rf = model_rf.predict(X_val)\n",
    "print(f\"RMSE:{mean_squared_error(y_val, pred_rf, squared=False)}\")"
   ]
  },
  {
   "attachments": {},
   "cell_type": "markdown",
   "metadata": {},
   "source": [
    "## XGBoost - parameter tuning"
   ]
  },
  {
   "cell_type": "code",
   "execution_count": 7,
   "metadata": {},
   "outputs": [
    {
     "name": "stdout",
     "output_type": "stream",
     "text": [
      "RMSE:1.8366396658074104\n"
     ]
    }
   ],
   "source": [
    "model_xgb = XGBRegressor()\n",
    "model_xgb.fit(X_train, y_train, verbose=False)\n",
    "pred_xgb_baseline = model_xgb.predict(X_val)\n",
    "print(f\"RMSE:{mean_squared_error(y_val, pred_xgb_baseline, squared=False)}\")"
   ]
  },
  {
   "cell_type": "code",
   "execution_count": 8,
   "metadata": {},
   "outputs": [],
   "source": [
    "# # verificando melhor parâmetro para max_depth\n",
    "# max_depth = np.arange(1, 10, 1)\n",
    "# rmse_xgb = []\n",
    "# for i in max_depth:\n",
    "#     model_xgb.set_params(max_depth=i)\n",
    "#     model_xgb.fit(X_train, y_train)\n",
    "#     pred_xgb = model_xgb.predict(X_val)\n",
    "#     rmse_xgb.append(mean_squared_error(y_val, pred_xgb, squared=False))\n",
    "\n",
    "# learning_rate = np.arange(0.01, 0.1, 0.01)\n",
    "# rmse_xgb_lr = []\n",
    "# for i in learning_rate :\n",
    "#     model_xgb.set_params(learning_rate =i)\n",
    "#     model_xgb.fit(X_train, y_train)\n",
    "#     pred_xgb = model_xgb.predict(X_val)\n",
    "#     rmse_xgb_lr.append(mean_squared_error(y_val, pred_xgb, squared=False))\n",
    "\n",
    "# gamma = np.arange(1, 9, 1)\n",
    "# rmse_xgb_gamma = []\n",
    "# for i in gamma:\n",
    "#     model_xgb.set_params(gamma=i)\n",
    "#     model_xgb.fit(X_train, y_train)\n",
    "#     pred_xgb = model_xgb.predict(X_val)\n",
    "#     rmse_xgb_gamma.append(mean_squared_error(y_val, pred_xgb, squared=False))  \n",
    "\n",
    "# plt.figure(figsize=(12,5))\n",
    "# _ = plt.subplot(1, 2, 1)\n",
    "# _ = plt.plot(max_depth, rmse_xgb, '-ro')\n",
    "# _ = plt.xlabel(\"max_depth\")\n",
    "# _ = plt.ylabel(\"RMSE\")\n",
    "\n",
    "# _ = plt.subplot(1, 2, 2)\n",
    "# _ = plt.plot(learning_rate , rmse_xgb_lr, '-ro')\n",
    "# _ = plt.xlabel(\"learning_rate\")\n",
    "\n",
    "# _ = plt.subplot(2, 4, 1)\n",
    "# _ = plt.plot(gamma , rmse_xgb_gamma, '-ro')\n",
    "# _ = plt.xlabel(\"gamma\")\n",
    "# _ = plt.ylabel(\"RMSE\")"
   ]
  },
  {
   "cell_type": "code",
   "execution_count": 9,
   "metadata": {},
   "outputs": [
    {
     "name": "stdout",
     "output_type": "stream",
     "text": [
      "RMSE:1.8366396658074104\n"
     ]
    }
   ],
   "source": [
    "model_xgb.set_params(max_depth=3, learning_rate=0.04)\n",
    "pred_xgb = model_xgb.predict(X_val)\n",
    "print(f\"RMSE:{mean_squared_error(y_val, pred_xgb, squared=False)}\")"
   ]
  },
  {
   "attachments": {},
   "cell_type": "markdown",
   "metadata": {},
   "source": [
    "## Modelo final aplicado aos dados de 2016: versão com e sem a inclusão do total de gastos de campanha como feature"
   ]
  },
  {
   "cell_type": "code",
   "execution_count": 10,
   "metadata": {},
   "outputs": [
    {
     "name": "stdout",
     "output_type": "stream",
     "text": [
      "RMSE:2.0281644526775437\n"
     ]
    }
   ],
   "source": [
    "y = df_2016.nep_votos\n",
    "\n",
    "# one hot encoding para os estados\n",
    "uf = df_2016[['uf']]\n",
    "uf = OneHotEncoder().fit_transform(uf)\n",
    "\n",
    "# retirando colunas\n",
    "X = df_2016.loc[:, ~df_2016.columns.isin([\n",
    "    'nep_votos', 'uf', 'codigo_municipio', \n",
    "    'codigo_ibge', 'sigla_uf', 'nome_municipio',\n",
    "    'ano_eleicao'\n",
    "    ])]\n",
    "\n",
    "# combinando features em uma matriz esparsa\n",
    "X = hstack([X, uf])\n",
    "\n",
    "# imputando a mediana dos valores para substituir observações nulas entre as features de treino\n",
    "imputer = SimpleImputer(strategy='median')\n",
    "X = imputer.fit_transform(X)\n",
    "\n",
    "# padronização das features de treino\n",
    "scaler = StandardScaler(with_mean=False)\n",
    "scaler.fit_transform(X)\n",
    "\n",
    "model_xgb = XGBRegressor(max_depth=3, learning_rate=0.04)\n",
    "\n",
    "model_xgb.fit(X, y, verbose=False)\n",
    "\n",
    "pred_xgb = model_xgb.predict(X)\n",
    "\n",
    "\n",
    "y_pred = model_xgb.predict(X)\n",
    "print(f\"RMSE:{mean_squared_error(y, y_pred, squared=False)}\")"
   ]
  },
  {
   "cell_type": "code",
   "execution_count": 11,
   "metadata": {},
   "outputs": [
    {
     "name": "stdout",
     "output_type": "stream",
     "text": [
      "RMSE:2.3194694960522013\n"
     ]
    }
   ],
   "source": [
    "y = df_2016.nep_votos\n",
    "\n",
    "# one hot encoding para os estados\n",
    "uf = df_2016[['uf']]\n",
    "uf = OneHotEncoder().fit_transform(uf)\n",
    "\n",
    "# retirando colunas\n",
    "X = df_2016.loc[:, ~df_2016.columns.isin([\n",
    "    'nep_votos', 'uf', 'codigo_municipio', \n",
    "    'codigo_ibge', 'sigla_uf', 'nome_municipio',\n",
    "    'ano_eleicao', 'total_despesa', 'nep_gastos'\n",
    "    ])]\n",
    "\n",
    "# combinando features em uma matriz esparsa\n",
    "X = hstack([X, uf])\n",
    "\n",
    "# imputando a mediana dos valores para substituir observações nulas entre as features de treino\n",
    "imputer = SimpleImputer(strategy='median')\n",
    "X = imputer.fit_transform(X)\n",
    "\n",
    "# padronização das features de treino\n",
    "scaler = StandardScaler(with_mean=False)\n",
    "scaler.fit_transform(X)\n",
    "\n",
    "model_xgb = XGBRegressor(max_depth=3, learning_rate=0.04)\n",
    "\n",
    "model_xgb.fit(X, y, verbose=False)\n",
    "\n",
    "\n",
    "y_pred = model_xgb.predict(X)\n",
    "print(f\"RMSE:{mean_squared_error(y, y_pred, squared=False)}\")"
   ]
  }
 ],
 "metadata": {
  "kernelspec": {
   "display_name": ".venv",
   "language": "python",
   "name": "python3"
  },
  "language_info": {
   "codemirror_mode": {
    "name": "ipython",
    "version": 3
   },
   "file_extension": ".py",
   "mimetype": "text/x-python",
   "name": "python",
   "nbconvert_exporter": "python",
   "pygments_lexer": "ipython3",
   "version": "3.10.4"
  },
  "orig_nbformat": 4,
  "vscode": {
   "interpreter": {
    "hash": "3446cf101c0afad7039eefd5672a1d4819703149d96c9c2c72d5750774bc760c"
   }
  }
 },
 "nbformat": 4,
 "nbformat_minor": 2
}
